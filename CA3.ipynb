{
 "cells": [
  {
   "cell_type": "markdown",
   "metadata": {},
   "source": [
    "# Computer Assignment 3, Naive Bayes Classifier\n",
    "### The purpose of this project is to use the Naive Bayes algorithm to determine whether the comments are positive or negative based on the text of the comments and their titles."
   ]
  },
  {
   "cell_type": "markdown",
   "metadata": {},
   "source": [
    "# Phase 1, Data pre processing "
   ]
  },
  {
   "cell_type": "markdown",
   "metadata": {},
   "source": [
    "## Data\n",
    "Our data includes a list of comments with their titles and whether they are positive or negative. We have two sets of data here. The training data that we use to train our model and the test data that we will use to test the model."
   ]
  },
  {
   "cell_type": "code",
   "execution_count": 3,
   "metadata": {},
   "outputs": [
    {
     "data": {
      "text/html": [
       "<div>\n",
       "<style scoped>\n",
       "    .dataframe tbody tr th:only-of-type {\n",
       "        vertical-align: middle;\n",
       "    }\n",
       "\n",
       "    .dataframe tbody tr th {\n",
       "        vertical-align: top;\n",
       "    }\n",
       "\n",
       "    .dataframe thead th {\n",
       "        text-align: right;\n",
       "    }\n",
       "</style>\n",
       "<table border=\"1\" class=\"dataframe\">\n",
       "  <thead>\n",
       "    <tr style=\"text-align: right;\">\n",
       "      <th></th>\n",
       "      <th>title</th>\n",
       "      <th>comment</th>\n",
       "      <th>recommend</th>\n",
       "    </tr>\n",
       "  </thead>\n",
       "  <tbody>\n",
       "    <tr>\n",
       "      <th>0</th>\n",
       "      <td>زیبا اما کم دوام</td>\n",
       "      <td>با وجود سابقه خوبی که از برند ایرانی نهرین سرا...</td>\n",
       "      <td>not_recommended</td>\n",
       "    </tr>\n",
       "    <tr>\n",
       "      <th>1</th>\n",
       "      <td>بسیار عالی</td>\n",
       "      <td>بسیار عالی</td>\n",
       "      <td>recommended</td>\n",
       "    </tr>\n",
       "    <tr>\n",
       "      <th>2</th>\n",
       "      <td>سلام</td>\n",
       "      <td>من الان ۳ هفته هست استفاده میکنم\\r\\nبرای کسایی...</td>\n",
       "      <td>not_recommended</td>\n",
       "    </tr>\n",
       "    <tr>\n",
       "      <th>3</th>\n",
       "      <td>به درد نمیخورهههه</td>\n",
       "      <td>عمرش کمه تا یه هفته بیشتر نمیشه استفاده کرد یا...</td>\n",
       "      <td>not_recommended</td>\n",
       "    </tr>\n",
       "    <tr>\n",
       "      <th>4</th>\n",
       "      <td>کلمن آب</td>\n",
       "      <td>فکر کنین کلمن بخرین با ذوق. کلی پولشو بدین. به...</td>\n",
       "      <td>not_recommended</td>\n",
       "    </tr>\n",
       "    <tr>\n",
       "      <th>...</th>\n",
       "      <td>...</td>\n",
       "      <td>...</td>\n",
       "      <td>...</td>\n",
       "    </tr>\n",
       "    <tr>\n",
       "      <th>5995</th>\n",
       "      <td>جنسش عالیه</td>\n",
       "      <td>خیلی جنس پارچش نرم ولطیفه خیلیم جنسش خوبه اما ...</td>\n",
       "      <td>recommended</td>\n",
       "    </tr>\n",
       "    <tr>\n",
       "      <th>5996</th>\n",
       "      <td>خرید محصول</td>\n",
       "      <td>سلام.واقعا فکر نمی کردم به این راحتی اصلاح کنم...</td>\n",
       "      <td>recommended</td>\n",
       "    </tr>\n",
       "    <tr>\n",
       "      <th>5997</th>\n",
       "      <td>تعریف</td>\n",
       "      <td>من از دیجی کالا خریدم خیلی زود دستم رسید،زیبا،...</td>\n",
       "      <td>recommended</td>\n",
       "    </tr>\n",
       "    <tr>\n",
       "      <th>5998</th>\n",
       "      <td>اصلا چای ماچا نیسش</td>\n",
       "      <td>یا شرکت نمیدونسته چای ماچا امپریال چیه یا واقع...</td>\n",
       "      <td>not_recommended</td>\n",
       "    </tr>\n",
       "    <tr>\n",
       "      <th>5999</th>\n",
       "      <td>یک هدست بدون سیم عالی</td>\n",
       "      <td>این هدست را چند هفته قبل از سایت دیجی کالا خری...</td>\n",
       "      <td>recommended</td>\n",
       "    </tr>\n",
       "  </tbody>\n",
       "</table>\n",
       "<p>6000 rows × 3 columns</p>\n",
       "</div>"
      ],
      "text/plain": [
       "                      title  \\\n",
       "0          زیبا اما کم دوام   \n",
       "1                بسیار عالی   \n",
       "2                      سلام   \n",
       "3         به درد نمیخورهههه   \n",
       "4                   کلمن آب   \n",
       "...                     ...   \n",
       "5995             جنسش عالیه   \n",
       "5996             خرید محصول   \n",
       "5997                  تعریف   \n",
       "5998     اصلا چای ماچا نیسش   \n",
       "5999  یک هدست بدون سیم عالی   \n",
       "\n",
       "                                                comment        recommend  \n",
       "0     با وجود سابقه خوبی که از برند ایرانی نهرین سرا...  not_recommended  \n",
       "1                                            بسیار عالی      recommended  \n",
       "2     من الان ۳ هفته هست استفاده میکنم\\r\\nبرای کسایی...  not_recommended  \n",
       "3     عمرش کمه تا یه هفته بیشتر نمیشه استفاده کرد یا...  not_recommended  \n",
       "4     فکر کنین کلمن بخرین با ذوق. کلی پولشو بدین. به...  not_recommended  \n",
       "...                                                 ...              ...  \n",
       "5995  خیلی جنس پارچش نرم ولطیفه خیلیم جنسش خوبه اما ...      recommended  \n",
       "5996  سلام.واقعا فکر نمی کردم به این راحتی اصلاح کنم...      recommended  \n",
       "5997  من از دیجی کالا خریدم خیلی زود دستم رسید،زیبا،...      recommended  \n",
       "5998  یا شرکت نمیدونسته چای ماچا امپریال چیه یا واقع...  not_recommended  \n",
       "5999  این هدست را چند هفته قبل از سایت دیجی کالا خری...      recommended  \n",
       "\n",
       "[6000 rows x 3 columns]"
      ]
     },
     "execution_count": 3,
     "metadata": {},
     "output_type": "execute_result"
    }
   ],
   "source": [
    "import pandas as pd\n",
    "\n",
    "TRAIN_FILE_ADDRESS = 'CA3_dataset/comment_train.csv'\n",
    "row_train_data = pd.read_csv(TRAIN_FILE_ADDRESS)\n",
    "row_train_data"
   ]
  },
  {
   "cell_type": "code",
   "execution_count": 4,
   "metadata": {},
   "outputs": [
    {
     "data": {
      "text/html": [
       "<div>\n",
       "<style scoped>\n",
       "    .dataframe tbody tr th:only-of-type {\n",
       "        vertical-align: middle;\n",
       "    }\n",
       "\n",
       "    .dataframe tbody tr th {\n",
       "        vertical-align: top;\n",
       "    }\n",
       "\n",
       "    .dataframe thead th {\n",
       "        text-align: right;\n",
       "    }\n",
       "</style>\n",
       "<table border=\"1\" class=\"dataframe\">\n",
       "  <thead>\n",
       "    <tr style=\"text-align: right;\">\n",
       "      <th></th>\n",
       "      <th>title</th>\n",
       "      <th>comment</th>\n",
       "      <th>recommend</th>\n",
       "    </tr>\n",
       "  </thead>\n",
       "  <tbody>\n",
       "    <tr>\n",
       "      <th>0</th>\n",
       "      <td>وری گود</td>\n",
       "      <td>تازه خریدم یه مدت کار بکنه مشخص میشه کیفیت قطعاتش</td>\n",
       "      <td>recommended</td>\n",
       "    </tr>\n",
       "    <tr>\n",
       "      <th>1</th>\n",
       "      <td>زیاد مناسب نیست رنگ پس میده یه وقتایی موقع نوشتن</td>\n",
       "      <td>با این قیمت گزینه های بهتری هم میشه گرفت.\\r\\nر...</td>\n",
       "      <td>not_recommended</td>\n",
       "    </tr>\n",
       "    <tr>\n",
       "      <th>2</th>\n",
       "      <td>پنکه گوشی</td>\n",
       "      <td>خیلی عالیه، فقط کاش از اون سمتش میشد به پاوربا...</td>\n",
       "      <td>recommended</td>\n",
       "    </tr>\n",
       "    <tr>\n",
       "      <th>3</th>\n",
       "      <td>دستگاه خیلی ضعیف</td>\n",
       "      <td>من این فیس براس چند روز یپش به دستم رسید و الا...</td>\n",
       "      <td>not_recommended</td>\n",
       "    </tr>\n",
       "    <tr>\n",
       "      <th>4</th>\n",
       "      <td>عالی و بیست</td>\n",
       "      <td>بنده یه هارد اکسترنال دارم که کابل فابریکش سال...</td>\n",
       "      <td>recommended</td>\n",
       "    </tr>\n",
       "    <tr>\n",
       "      <th>...</th>\n",
       "      <td>...</td>\n",
       "      <td>...</td>\n",
       "      <td>...</td>\n",
       "    </tr>\n",
       "    <tr>\n",
       "      <th>795</th>\n",
       "      <td>بسیار کوچیک</td>\n",
       "      <td>طراحیش قشنگه ولی  داخل عکس خیلی بزرگتر ب چشم م...</td>\n",
       "      <td>not_recommended</td>\n",
       "    </tr>\n",
       "    <tr>\n",
       "      <th>796</th>\n",
       "      <td>لامپ چینی</td>\n",
       "      <td>این لامپ چینی هستتش کیفیت پایین . نور کم و فاق...</td>\n",
       "      <td>not_recommended</td>\n",
       "    </tr>\n",
       "    <tr>\n",
       "      <th>797</th>\n",
       "      <td>خوب بود</td>\n",
       "      <td>در کل از این خریدم راضی هستم و به تناسب قیمتش ...</td>\n",
       "      <td>recommended</td>\n",
       "    </tr>\n",
       "    <tr>\n",
       "      <th>798</th>\n",
       "      <td>کیفیت خوبی داره</td>\n",
       "      <td>تازع نصبش کردم-سرعت انتقال و نصب بازی روش عالی...</td>\n",
       "      <td>recommended</td>\n",
       "    </tr>\n",
       "    <tr>\n",
       "      <th>799</th>\n",
       "      <td>از خریدم پشیمونم</td>\n",
       "      <td>نسبت به باطری اصلی فقط 60% کار میکنه\\r\\nالان د...</td>\n",
       "      <td>not_recommended</td>\n",
       "    </tr>\n",
       "  </tbody>\n",
       "</table>\n",
       "<p>800 rows × 3 columns</p>\n",
       "</div>"
      ],
      "text/plain": [
       "                                                title  \\\n",
       "0                                             وری گود   \n",
       "1    زیاد مناسب نیست رنگ پس میده یه وقتایی موقع نوشتن   \n",
       "2                                           پنکه گوشی   \n",
       "3                                    دستگاه خیلی ضعیف   \n",
       "4                                         عالی و بیست   \n",
       "..                                                ...   \n",
       "795                                       بسیار کوچیک   \n",
       "796                                         لامپ چینی   \n",
       "797                                           خوب بود   \n",
       "798                                   کیفیت خوبی داره   \n",
       "799                                  از خریدم پشیمونم   \n",
       "\n",
       "                                               comment        recommend  \n",
       "0    تازه خریدم یه مدت کار بکنه مشخص میشه کیفیت قطعاتش      recommended  \n",
       "1    با این قیمت گزینه های بهتری هم میشه گرفت.\\r\\nر...  not_recommended  \n",
       "2    خیلی عالیه، فقط کاش از اون سمتش میشد به پاوربا...      recommended  \n",
       "3    من این فیس براس چند روز یپش به دستم رسید و الا...  not_recommended  \n",
       "4    بنده یه هارد اکسترنال دارم که کابل فابریکش سال...      recommended  \n",
       "..                                                 ...              ...  \n",
       "795  طراحیش قشنگه ولی  داخل عکس خیلی بزرگتر ب چشم م...  not_recommended  \n",
       "796  این لامپ چینی هستتش کیفیت پایین . نور کم و فاق...  not_recommended  \n",
       "797  در کل از این خریدم راضی هستم و به تناسب قیمتش ...      recommended  \n",
       "798  تازع نصبش کردم-سرعت انتقال و نصب بازی روش عالی...      recommended  \n",
       "799  نسبت به باطری اصلی فقط 60% کار میکنه\\r\\nالان د...  not_recommended  \n",
       "\n",
       "[800 rows x 3 columns]"
      ]
     },
     "execution_count": 4,
     "metadata": {},
     "output_type": "execute_result"
    }
   ],
   "source": [
    "TEST_FILE_ADDRESS = 'CA3_dataset/comment_test.csv'\n",
    "row_test_data = pd.read_csv(TEST_FILE_ADDRESS)\n",
    "row_test_data"
   ]
  },
  {
   "cell_type": "markdown",
   "metadata": {},
   "source": [
    "## Pre processing\n",
    "\n",
    "The task of the processor class is to prepare the raw data. \n",
    "\n",
    "### Tokenize :\n",
    "In this function, the text is divided into a number of words, which is done by the hazm library.\n",
    "\n",
    "\n",
    "### Remove stop words :\n",
    "Stopwords are words that do not have a meaningful effect despite the high repetition in the texts. This word list is already prepared and in this function we remove the words that are members of this list from the word list.\n",
    "\n",
    "### Remove additionals :\n",
    "Stemmer and Lemmatizer funcs are used here"
   ]
  },
  {
   "cell_type": "code",
   "execution_count": 5,
   "metadata": {},
   "outputs": [],
   "source": [
    "from __future__ import unicode_literals\n",
    "import hazm\n",
    "import codecs\n",
    "\n",
    "STOP_WORDS_FILE_ADDRESS = 'persian'\n",
    "\n",
    "def read_stop_words(file_address):\n",
    "    normalizer = hazm.Normalizer()\n",
    "    return set([normalizer.normalize(w) for w in codecs.open(file_address).read().split('\\n')])\n",
    "\n",
    "stop_words = set(hazm.stopwords_list())\n",
    "# read_stop_words(STOP_WORDS_FILE_ADDRESS)\n",
    "\n",
    "class Processor:\n",
    "    \n",
    "    normalizer = hazm.Normalizer()\n",
    "    lemmatizer = hazm.Lemmatizer()\n",
    "    stemmer = hazm.Stemmer()\n",
    "    \n",
    "    @staticmethod\n",
    "    def tokenize(text):\n",
    "        tokens = []\n",
    "        tokens = hazm.word_tokenize(text)\n",
    "        return set(tokens)\n",
    "    \n",
    "    @staticmethod\n",
    "    def normalize(text):\n",
    "        return Processor.normalizer.normalize(text)\n",
    "\n",
    "    @staticmethod\n",
    "    def remove_stop_words(tokens):\n",
    "        new_tokens = set()\n",
    "        for token in tokens:\n",
    "            if token not in stop_words:\n",
    "                new_tokens.add(token)\n",
    "        return new_tokens\n",
    "\n",
    "    @staticmethod\n",
    "    def remove_additionals(tokens):\n",
    "        for token in tokens:\n",
    "            token = Processor.stemmer.stem(token)\n",
    "            token = Processor.lemmatizer.lemmatize(token)\n",
    "        return tokens"
   ]
  },
  {
   "cell_type": "markdown",
   "metadata": {},
   "source": [
    "For data preprocessing, we extract meaningful and processed words that make up the title column and comments and merge them together.\n",
    "We also replace the recommendation column values with equivalent Boolean."
   ]
  },
  {
   "cell_type": "code",
   "execution_count": 6,
   "metadata": {},
   "outputs": [],
   "source": [
    "def pre_process_text(text):\n",
    "    text = Processor.normalize(text)\n",
    "    tokens = Processor.tokenize(text)\n",
    "    tokens = Processor.remove_additionals(tokens)\n",
    "#     tokens = Processor.remove_stop_words(tokens)\n",
    "    return tokens\n",
    "\n",
    "def pre_process_data(data, be_done):\n",
    "    processed_data = pd.DataFrame()\n",
    "    processed_data['features'] = data['comment'] + ' ' +  data['title']\n",
    "    if be_done:\n",
    "        processed_data['features'] = processed_data['features'].apply(lambda x: pre_process_text(x))\n",
    "    else:\n",
    "        processed_data['features'] = processed_data['features'].apply(lambda x: Processor.tokenize(x))\n",
    "    processed_data['recommend'] = data['recommend'].replace({'not_recommended': False, 'recommended': True})\n",
    "    return processed_data"
   ]
  },
  {
   "cell_type": "markdown",
   "metadata": {},
   "source": [
    "## Question 1 \n",
    "The Stemmng function is used to delete word additions. The Lemmitization function is also used to convert a word to its roots.\n",
    "Deleting word additions generally seems like a good idea because it makes words with the same meaning one.\n",
    "Converting words and verbs to their roots has the same process.\n",
    "But the problem with the introduced library was that it also slowed down the work and, when converting the verb to a root, removed the negative prefix, which could destroy some of the meaningful information."
   ]
  },
  {
   "cell_type": "markdown",
   "metadata": {},
   "source": [
    "# Phase2, Problem process\n",
    "<h2><center>$ P(y|f) = {{P(f|y)P(y)} \\over P(f)}$</center></h2><br>\n",
    "<h2><center>$ P(y|x) = P(f_1|y) \\times P(f_2|y) \\times ... \\times P(f_n|y)\\times P(y)$</center></h2><br>"
   ]
  },
  {
   "cell_type": "markdown",
   "metadata": {},
   "source": [
    "## Question 2\n",
    "\n",
    "<strong>Evidence = </strong> In this case, the words are in the text of the records.\n",
    "\n",
    "<strong>posterior probability = $P(y|f)$</strong>\n",
    "\n",
    "This expression refers to the probability that a data record is in class y, if it has the properties f.\n",
    "Since in this case our classes are two classes <strong>recommended</strong> and <strong>not recommended</strong> and the properties are the words in the sentence (regardless of their position) ‌ The meaning of this phrase in this issue is the probability of a user's positive / negative opinion The condition is to have the text of his comment.\n",
    "\n",
    "<strong> class prior probability = $P(y)$</strong>\n",
    "\n",
    "This term refers to the probability that a data record is in class y.\n",
    "Since in this case our classes are two classes <strong>recommended</strong> and <strong>not recommended</strong>, we mean the number of records that belong to class y in the most data among the total data.\n",
    "\n",
    "<h3><center>$ P(y=recommended) = {numberOfTrainRecordsBelongTothisclass \\over numberOfTrainRecords}$</center></h3><br>\n",
    "\n",
    "<strong> likelihood = $P(f|y)$ = $P(f_1f_2f_3...f_n|y)$</strong><br>\n",
    "Due to the simplification assumption of feature independence, we have that : \n",
    "<strong> $P(f_1f_2f_3...f_n|y)$ = $P(f_1|y) \\times P(f_2|y) \\times ... \\times P(f_n|y)$</strong><br>\n",
    "\n",
    "<h3><center>$ P(f_m=word1|y=recommended) = {numberOfTrainRecommendedRecordsThatHaveWord1InThisWords \\over numberOfTrainRecommendedRecords}$</center></h3><br>\n",
    "This phrase means what is the probability that the word1 is in recommended class?\n",
    "To calculate it, we need to see how many records of this word are in the records that contained positive comments? And we also need to get the number of records that were positive from the test data."
   ]
  },
  {
   "cell_type": "markdown",
   "metadata": {},
   "source": [
    "## Algorithm implementation"
   ]
  },
  {
   "cell_type": "code",
   "execution_count": 16,
   "metadata": {},
   "outputs": [
    {
     "ename": "SyntaxError",
     "evalue": "invalid syntax (<ipython-input-16-58455ee15f09>, line 73)",
     "output_type": "error",
     "traceback": [
      "\u001b[0;36m  File \u001b[0;32m\"<ipython-input-16-58455ee15f09>\"\u001b[0;36m, line \u001b[0;32m73\u001b[0m\n\u001b[0;31m    else:\u001b[0m\n\u001b[0m    ^\u001b[0m\n\u001b[0;31mSyntaxError\u001b[0m\u001b[0;31m:\u001b[0m invalid syntax\n"
     ]
    }
   ],
   "source": [
    "import numpy as np\n",
    "\n",
    "class Naive_bayes_algorithm:\n",
    "    def __init__(self, classes, train_data, test_data):\n",
    "        self.classes = classes\n",
    "        self.train_data = train_data\n",
    "        self.test_data = test_data\n",
    "        self.features_stat = {}\n",
    "        self.classes_count = dict()\n",
    "        self.classes_possibility = dict()\n",
    "    \n",
    "    def analyze_train_data(self):\n",
    "        for y in self.classes:\n",
    "            self.train_data[self.train_data['recommend'] == y]['features'].apply(lambda x: self.get_features_stat(x, y))\n",
    "\n",
    "    def get_features_stat(self, words, is_recommended):\n",
    "        if is_recommended not in self.features_stat:\n",
    "            self.features_stat[is_recommended] = {}\n",
    "        for word in words:\n",
    "            if word in self.features_stat[is_recommended]:\n",
    "                self.features_stat[is_recommended][word] += 1\n",
    "            else:\n",
    "                self.features_stat[is_recommended][word] = 1\n",
    "    \n",
    "    def run(self, with_additive_smoothing):\n",
    "        self.analyze_train_data()\n",
    "        self.set_classes_count()\n",
    "        \n",
    "        for y in self.classes:\n",
    "            self.classes_possibility[y] = []\n",
    "\n",
    "        for features in self.test_data['features']:\n",
    "            for y in self.classes:\n",
    "                p_class_if_features = self.p_class_if_features(features, y, with_additive_smoothing)\n",
    "                self.classes_possibility[y].append(p_class_if_features)\n",
    "        \n",
    "        final_prediction = []\n",
    "        for i in range(len(self.test_data)):\n",
    "            if self.classes_possibility[self.classes[0]][i] >= self.classes_possibility[self.classes[1]][i]:\n",
    "                final_prediction.append(self.classes[0])\n",
    "            else:\n",
    "                final_prediction.append(self.classes[1])\n",
    "        self.test_data['prediction'] = final_prediction\n",
    "        self.test_data['correctness'] = np.where(self.test_data['recommend'] == self.test_data['prediction'], True, False)\n",
    "        return self.calculate_accuracy(), self.calculate_precision(), self.calculate_recall(),self.calculate_f1()\n",
    "\n",
    "    def calculate_accuracy(self):\n",
    "        correct_detected = len(self.test_data[self.test_data['correctness'] == True])\n",
    "        total = len(self.test_data)\n",
    "        return correct_detected/total\n",
    "\n",
    "    def calculate_precision(self):\n",
    "        correct_detected_recommended = len(self.test_data[(self.test_data['correctness'] == True) & (self.test_data['prediction'] == True)])\n",
    "        all_detected_recommended = len(self.test_data[self.test_data['prediction'] == True])\n",
    "        return correct_detected_recommended/all_detected_recommended\n",
    "    \n",
    "    def calculate_recall(self):\n",
    "        correct_detected_recommended = len(self.test_data[(self.test_data['correctness'] == True) & (self.test_data['prediction'] == True)])\n",
    "        total_recommended = len(self.test_data[self.test_data['recommend'] == True])\n",
    "        return correct_detected_recommended/total_recommended\n",
    "    \n",
    "    def calculate_f1(self):\n",
    "        recall = self.calculate_recall()\n",
    "        precision = self.calculate_precision()\n",
    "        return (2 * precision * recall) / (precision + recall)\n",
    "\n",
    "    def p_feature_if_class(self, f, y, with_additive_smoothing):\n",
    "        if with_additive_smoothing: \n",
    "            if f in self.features_stat[y]:\n",
    "                p_feature_if_class = (self.features_stat[y][f] + 1) / (self.classes_count[y] + len(self.features_stat[y]) + len(self.features_stat[not y]))\n",
    "            else:\n",
    "                p_feature_if_class = 1 / (self.classes_count[y] + len(self.features_stat[y]) + len(self.features_stat[not y])\n",
    "        else:\n",
    "            if f in self.features_stat[y]:\n",
    "                p_feature_if_class = self.features_stat[y][f] / self.classes_count[y]\n",
    "            else:\n",
    "                p_feature_if_class = 0\n",
    "        return p_feature_if_class\n",
    "    \n",
    "    def p_class_if_features(self, features, y, with_additive_smoothing):\n",
    "        p_y = self.p_class(y)\n",
    "        p_class_if_features = p_y\n",
    "        for f in features:\n",
    "            p_class_if_features *= self.p_feature_if_class(f,y,with_additive_smoothing)\n",
    "        return p_class_if_features\n",
    "    \n",
    "    def p_class(self, y):\n",
    "        return self.classes_count[y] / len(self.train_data)\n",
    "        \n",
    "    def set_classes_count(self):\n",
    "        for y in self.classes:\n",
    "            self.classes_count[y] = len(self.train_data[self.train_data['recommend'] == y])\n",
    "    \n",
    "    def get_incorrects(self):\n",
    "        return self.test_data[self.test_data['correctness'] == False].tail(5)"
   ]
  },
  {
   "cell_type": "markdown",
   "metadata": {},
   "source": [
    "# Additive Smoothing\n",
    "\n",
    "## Question 3 \n",
    "\n",
    "<h3><center>$ P(f_m=word1|y=recommended) = {numberOfTrainRecommendedRecordsThatHaveWord1InThisWords \\over numberOfTrainRecommendedRecords}$</center></h3><br>\n",
    "\n",
    "Based on the above relation, the probability of the existence of a word if it is a positive comment is equal to the product of dividing the number of repetitions of that word in positive comments by the number of positive comments. So, for example, if a word does not appear in any of the comments of the train data records, the above statement becomes zero.\n",
    "On the other hand, this phrase is multiplied by other expressions to make the total probability. And because it is zero, it makes the total probability zero.\n",
    "\n",
    "\n",
    "## Question 4\n",
    "<h2><center>$ P_{LAP,k}(x) = {{c(x) + k} \\over N + k \\times X}$</center></h2><br>\n",
    "\n",
    "To solve this problem, we need to eliminate the probabilities that are equal to zero.\n",
    "So we add k units to all the probabilities, and we also need to increase the denominator by the number of words multiplied by k."
   ]
  },
  {
   "cell_type": "markdown",
   "metadata": {},
   "source": [
    "# Phase 3,  Evaluation"
   ]
  },
  {
   "cell_type": "markdown",
   "metadata": {},
   "source": [
    "## Question 5\n",
    "Suppose we have test data with n records that is recommended and m records that is not recommended.\n",
    "1. Our model recognizes all records as not recommended, except for one record for which the prediction was a correct. In this case, the value of Precision is equal to 100%, and this is in the case that our model did not perform well. So the value of Precision is not enough.\n",
    "\n",
    "2. Our model has detected all records recommended. In this case, the value of Recall is equal to 100% because it has detected all the recommendeds correctly, but this is in the case that the performance of our model is not good and then the value of Recall is not enough and these two values must be together to make sense. \n",
    "\n",
    "## Question 6\n",
    "Its name is harmonic average, the formula of which is given below.\n",
    "Since the numerator form in both of these parameters is similar, we need to average the denominator of the fraction. After this average is used.\n",
    "<h2><center>$H(x_1,x_2,...,x_n) = {n \\over {1 \\over x_1} + {1 \\over x_2} + ... + {1 \\over x_n}}$<h2><center>"
   ]
  },
  {
   "cell_type": "markdown",
   "metadata": {},
   "source": [
    "### a"
   ]
  },
  {
   "cell_type": "code",
   "execution_count": 12,
   "metadata": {},
   "outputs": [],
   "source": [
    "a_processed_train_data = pre_process_data(row_train_data, True)"
   ]
  },
  {
   "cell_type": "code",
   "execution_count": 13,
   "metadata": {},
   "outputs": [],
   "source": [
    "a_processed_test_data = pre_process_data(row_test_data, True)"
   ]
  },
  {
   "cell_type": "code",
   "execution_count": 14,
   "metadata": {},
   "outputs": [
    {
     "ename": "NameError",
     "evalue": "name 'Naive_bayes_algorithm' is not defined",
     "output_type": "error",
     "traceback": [
      "\u001b[0;31m---------------------------------------------------------------------------\u001b[0m",
      "\u001b[0;31mNameError\u001b[0m                                 Traceback (most recent call last)",
      "\u001b[0;32m<ipython-input-14-ca3f9e5c75ad>\u001b[0m in \u001b[0;36m<module>\u001b[0;34m\u001b[0m\n\u001b[0;32m----> 1\u001b[0;31m \u001b[0ma\u001b[0m \u001b[0;34m=\u001b[0m \u001b[0mNaive_bayes_algorithm\u001b[0m\u001b[0;34m(\u001b[0m\u001b[0;34m[\u001b[0m\u001b[0;32mTrue\u001b[0m\u001b[0;34m,\u001b[0m \u001b[0;32mFalse\u001b[0m\u001b[0;34m]\u001b[0m\u001b[0;34m,\u001b[0m \u001b[0ma_processed_train_data\u001b[0m\u001b[0;34m,\u001b[0m \u001b[0ma_processed_test_data\u001b[0m\u001b[0;34m)\u001b[0m\u001b[0;34m\u001b[0m\u001b[0;34m\u001b[0m\u001b[0m\n\u001b[0m\u001b[1;32m      2\u001b[0m \u001b[0ma_accuracy\u001b[0m\u001b[0;34m,\u001b[0m \u001b[0ma_precision\u001b[0m\u001b[0;34m,\u001b[0m \u001b[0ma_recall\u001b[0m\u001b[0;34m,\u001b[0m \u001b[0ma_f1\u001b[0m \u001b[0;34m=\u001b[0m \u001b[0ma\u001b[0m\u001b[0;34m.\u001b[0m\u001b[0mrun\u001b[0m\u001b[0;34m(\u001b[0m\u001b[0;32mTrue\u001b[0m\u001b[0;34m)\u001b[0m\u001b[0;34m\u001b[0m\u001b[0;34m\u001b[0m\u001b[0m\n\u001b[1;32m      3\u001b[0m \u001b[0mprint\u001b[0m\u001b[0;34m(\u001b[0m\u001b[0;34m'Accuracy of a = '\u001b[0m\u001b[0;34m,\u001b[0m \u001b[0ma_accuracy\u001b[0m\u001b[0;34m)\u001b[0m\u001b[0;34m\u001b[0m\u001b[0;34m\u001b[0m\u001b[0m\n\u001b[1;32m      4\u001b[0m \u001b[0mprint\u001b[0m\u001b[0;34m(\u001b[0m\u001b[0;34m'Precision of a = '\u001b[0m\u001b[0;34m,\u001b[0m \u001b[0ma_precision\u001b[0m\u001b[0;34m)\u001b[0m\u001b[0;34m\u001b[0m\u001b[0;34m\u001b[0m\u001b[0m\n\u001b[1;32m      5\u001b[0m \u001b[0mprint\u001b[0m\u001b[0;34m(\u001b[0m\u001b[0;34m'Recall of a = '\u001b[0m\u001b[0;34m,\u001b[0m \u001b[0ma_recall\u001b[0m\u001b[0;34m)\u001b[0m\u001b[0;34m\u001b[0m\u001b[0;34m\u001b[0m\u001b[0m\n",
      "\u001b[0;31mNameError\u001b[0m: name 'Naive_bayes_algorithm' is not defined"
     ]
    }
   ],
   "source": [
    "a = Naive_bayes_algorithm([True, False], a_processed_train_data, a_processed_test_data)\n",
    "a_accuracy, a_precision, a_recall, a_f1 = a.run(True)\n",
    "print('Accuracy of a = ', a_accuracy)\n",
    "print('Precision of a = ', a_precision)\n",
    "print('Recall of a = ', a_recall)\n",
    "print('F1 of a = ', a_f1)"
   ]
  },
  {
   "cell_type": "markdown",
   "metadata": {},
   "source": [
    "### b"
   ]
  },
  {
   "cell_type": "code",
   "execution_count": 2,
   "metadata": {},
   "outputs": [
    {
     "ename": "NameError",
     "evalue": "name 'pre_process_data' is not defined",
     "output_type": "error",
     "traceback": [
      "\u001b[0;31m---------------------------------------------------------------------------\u001b[0m",
      "\u001b[0;31mNameError\u001b[0m                                 Traceback (most recent call last)",
      "\u001b[0;32m<ipython-input-2-70b7b8b7a1bd>\u001b[0m in \u001b[0;36m<module>\u001b[0;34m\u001b[0m\n\u001b[0;32m----> 1\u001b[0;31m \u001b[0mb_processed_train_data\u001b[0m \u001b[0;34m=\u001b[0m \u001b[0mpre_process_data\u001b[0m\u001b[0;34m(\u001b[0m\u001b[0mrow_train_data\u001b[0m\u001b[0;34m,\u001b[0m \u001b[0;32mFalse\u001b[0m\u001b[0;34m)\u001b[0m\u001b[0;34m\u001b[0m\u001b[0;34m\u001b[0m\u001b[0m\n\u001b[0m",
      "\u001b[0;31mNameError\u001b[0m: name 'pre_process_data' is not defined"
     ]
    }
   ],
   "source": [
    "b_processed_train_data = pre_process_data(row_train_data, False)"
   ]
  },
  {
   "cell_type": "code",
   "execution_count": 86,
   "metadata": {},
   "outputs": [],
   "source": [
    "b_processed_test_data = pre_process_data(row_test_data, False)"
   ]
  },
  {
   "cell_type": "code",
   "execution_count": 106,
   "metadata": {},
   "outputs": [
    {
     "name": "stdout",
     "output_type": "stream",
     "text": [
      "Accuracy of b =  0.92\n",
      "Precision of b =  0.8981042654028436\n",
      "Recall of b =  0.9475\n",
      "F1 of b =  0.9221411192214113\n"
     ]
    }
   ],
   "source": [
    "b = Naive_bayes_algorithm([True, False], b_processed_train_data, b_processed_test_data)\n",
    "b_accuracy, b_precision, b_recall, b_f1 = b.run(True)\n",
    "print('Accuracy of b = ', b_accuracy)\n",
    "print('Precision of b = ', b_precision)\n",
    "print('Recall of b = ', b_recall)\n",
    "print('F1 of b = ', b_f1)"
   ]
  },
  {
   "cell_type": "markdown",
   "metadata": {},
   "source": [
    "### c"
   ]
  },
  {
   "cell_type": "code",
   "execution_count": 88,
   "metadata": {},
   "outputs": [],
   "source": [
    "c_processed_train_data = pre_process_data(row_train_data, True)"
   ]
  },
  {
   "cell_type": "code",
   "execution_count": 89,
   "metadata": {},
   "outputs": [],
   "source": [
    "c_processed_test_data = pre_process_data(row_test_data, True)"
   ]
  },
  {
   "cell_type": "code",
   "execution_count": 107,
   "metadata": {},
   "outputs": [
    {
     "name": "stdout",
     "output_type": "stream",
     "text": [
      "Accuracy of c =  0.8725\n",
      "Precision of c =  0.8028455284552846\n",
      "Recall of c =  0.9875\n",
      "F1 of c =  0.8856502242152466\n"
     ]
    }
   ],
   "source": [
    "c = Naive_bayes_algorithm([True, False], c_processed_train_data, c_processed_test_data)\n",
    "c_accuracy, c_precision, c_recall, c_f1 = c.run(False)\n",
    "print('Accuracy of c = ', c_accuracy)\n",
    "print('Precision of c = ', c_precision)\n",
    "print('Recall of c = ', c_recall)\n",
    "print('F1 of c = ', c_f1)"
   ]
  },
  {
   "cell_type": "markdown",
   "metadata": {},
   "source": [
    "### d"
   ]
  },
  {
   "cell_type": "code",
   "execution_count": 91,
   "metadata": {},
   "outputs": [],
   "source": [
    "d_processed_train_data = pre_process_data(row_train_data, False)"
   ]
  },
  {
   "cell_type": "code",
   "execution_count": 92,
   "metadata": {},
   "outputs": [],
   "source": [
    "d_processed_test_data = pre_process_data(row_test_data, False)"
   ]
  },
  {
   "cell_type": "code",
   "execution_count": 108,
   "metadata": {},
   "outputs": [
    {
     "name": "stdout",
     "output_type": "stream",
     "text": [
      "Accuracy of d =  0.86375\n",
      "Precision of d =  0.7915831663326653\n",
      "Recall of d =  0.9875\n",
      "F1 of d =  0.8787541713014462\n"
     ]
    }
   ],
   "source": [
    "d = Naive_bayes_algorithm([True, False], d_processed_train_data, d_processed_test_data)\n",
    "d_accuracy, d_precision, d_recall, d_f1 = d.run(False)\n",
    "print('Accuracy of d = ', d_accuracy)\n",
    "print('Precision of d = ', d_precision)\n",
    "print('Recall of d = ', d_recall)\n",
    "print('F1 of d = ', d_f1)"
   ]
  },
  {
   "cell_type": "markdown",
   "metadata": {},
   "source": [
    "## Question 7"
   ]
  },
  {
   "cell_type": "code",
   "execution_count": 109,
   "metadata": {},
   "outputs": [
    {
     "data": {
      "text/html": [
       "<div>\n",
       "<style scoped>\n",
       "    .dataframe tbody tr th:only-of-type {\n",
       "        vertical-align: middle;\n",
       "    }\n",
       "\n",
       "    .dataframe tbody tr th {\n",
       "        vertical-align: top;\n",
       "    }\n",
       "\n",
       "    .dataframe thead th {\n",
       "        text-align: right;\n",
       "    }\n",
       "</style>\n",
       "<table border=\"1\" class=\"dataframe\">\n",
       "  <thead>\n",
       "    <tr style=\"text-align: right;\">\n",
       "      <th></th>\n",
       "      <th>Model</th>\n",
       "      <th>Accuracy</th>\n",
       "      <th>Precision</th>\n",
       "      <th>Recall</th>\n",
       "      <th>F1</th>\n",
       "    </tr>\n",
       "  </thead>\n",
       "  <tbody>\n",
       "    <tr>\n",
       "      <th>0</th>\n",
       "      <td>a</td>\n",
       "      <td>0.92375</td>\n",
       "      <td>0.910412</td>\n",
       "      <td>0.9400</td>\n",
       "      <td>0.924969</td>\n",
       "    </tr>\n",
       "    <tr>\n",
       "      <th>1</th>\n",
       "      <td>b</td>\n",
       "      <td>0.92000</td>\n",
       "      <td>0.898104</td>\n",
       "      <td>0.9475</td>\n",
       "      <td>0.922141</td>\n",
       "    </tr>\n",
       "    <tr>\n",
       "      <th>2</th>\n",
       "      <td>c</td>\n",
       "      <td>0.87250</td>\n",
       "      <td>0.802846</td>\n",
       "      <td>0.9875</td>\n",
       "      <td>0.885650</td>\n",
       "    </tr>\n",
       "    <tr>\n",
       "      <th>3</th>\n",
       "      <td>d</td>\n",
       "      <td>0.86375</td>\n",
       "      <td>0.791583</td>\n",
       "      <td>0.9875</td>\n",
       "      <td>0.878754</td>\n",
       "    </tr>\n",
       "  </tbody>\n",
       "</table>\n",
       "</div>"
      ],
      "text/plain": [
       "  Model  Accuracy  Precision  Recall        F1\n",
       "0     a   0.92375   0.910412  0.9400  0.924969\n",
       "1     b   0.92000   0.898104  0.9475  0.922141\n",
       "2     c   0.87250   0.802846  0.9875  0.885650\n",
       "3     d   0.86375   0.791583  0.9875  0.878754"
      ]
     },
     "execution_count": 109,
     "metadata": {},
     "output_type": "execute_result"
    }
   ],
   "source": [
    "result = pd.DataFrame()\n",
    "result['Model'] = ['a', 'b', 'c', 'd']\n",
    "result['Accuracy'] = [a_accuracy, b_accuracy, c_accuracy, d_accuracy]\n",
    "result['Precision'] = [a_precision, b_precision, c_precision, d_precision]\n",
    "result['Recall'] = [a_recall, b_recall, c_recall, d_recall]\n",
    "result['F1'] = [a_f1, b_f1, c_f1, d_f1]\n",
    "result"
   ]
  },
  {
   "cell_type": "markdown",
   "metadata": {},
   "source": [
    "## Question 8"
   ]
  },
  {
   "cell_type": "code",
   "execution_count": 110,
   "metadata": {},
   "outputs": [
    {
     "data": {
      "text/plain": [
       "<function matplotlib.pyplot.show(close=None, block=None)>"
      ]
     },
     "execution_count": 110,
     "metadata": {},
     "output_type": "execute_result"
    },
    {
     "data": {
      "image/png": "[encoded data removed]",
      "text/plain": [
       "<Figure size 432x288 with 1 Axes>"
      ]
     },
     "metadata": {
      "needs_background": "light"
     },
     "output_type": "display_data"
    }
   ],
   "source": [
    "import matplotlib.pyplot as plt\n",
    "plt.plot(result['Model'], result['Accuracy'], label= 'Accuracy', color='red')\n",
    "plt.plot(result['Model'], result['Precision'], label= 'Precision', color='blue')\n",
    "plt.plot(result['Model'], result['Recall'], label= 'Recall', color='green')\n",
    "plt.plot(result['Model'], result['F1'], label= 'F1', color='yellow')\n",
    "plt.legend()\n",
    "plt.show"
   ]
  },
  {
   "cell_type": "markdown",
   "metadata": {},
   "source": [
    "#### Accuracy\n",
    "Shown above in red.\n",
    "This value represents the percentage of correct answers among the total test data, which, as expected, is the highest for A, then B, then C, and finally D.\n",
    "\n",
    "#### Precision\n",
    "Shown above in blue.\n",
    "This value is proportional to the number of comments correctly identified as recommended and inversely proportional to the number of comments detected as total recommended.\n",
    "\n",
    "#### Recall\n",
    "Shown above in green.\n",
    "This value is proportional to the number of comments that were correctly identified as recommended, and inversely proportional to the number of comments that were in the total recommended test data.\n",
    "\n",
    "Since the two values of Recall and Precision are examined together, we have that\n",
    "T otal Recommended is the same for all modes. So when the Recall graph is descending, it means that the number of correct recommended diagnoses in the last case was the highest. So why is it less accurate? Because other models have recognized not recommended more correctly.\n",
    "Now we see that the value of Precision was higher for the first case. In the case where the fraction is smaller than the rest. So its denominator is less sloping than the others, and number of it's recommended prediction is less.\n",
    "\n",
    "#### F1\n",
    "To conclude from the above two values, we use this parameter, as we can see, is descending."
   ]
  },
  {
   "cell_type": "markdown",
   "metadata": {},
   "source": [
    "## Question 9"
   ]
  },
  {
   "cell_type": "code",
   "execution_count": 98,
   "metadata": {},
   "outputs": [
    {
     "data": {
      "text/html": [
       "<div>\n",
       "<style scoped>\n",
       "    .dataframe tbody tr th:only-of-type {\n",
       "        vertical-align: middle;\n",
       "    }\n",
       "\n",
       "    .dataframe tbody tr th {\n",
       "        vertical-align: top;\n",
       "    }\n",
       "\n",
       "    .dataframe thead th {\n",
       "        text-align: right;\n",
       "    }\n",
       "</style>\n",
       "<table border=\"1\" class=\"dataframe\">\n",
       "  <thead>\n",
       "    <tr style=\"text-align: right;\">\n",
       "      <th></th>\n",
       "      <th>features</th>\n",
       "      <th>recommend</th>\n",
       "      <th>prediction</th>\n",
       "      <th>correctness</th>\n",
       "    </tr>\n",
       "  </thead>\n",
       "  <tbody>\n",
       "    <tr>\n",
       "      <th>692</th>\n",
       "      <td>{بخرید, معمولی, است, محصول, میکنم, کاملا, و, ب...</td>\n",
       "      <td>False</td>\n",
       "      <td>True</td>\n",
       "      <td>False</td>\n",
       "    </tr>\n",
       "    <tr>\n",
       "      <th>711</th>\n",
       "      <td>{کم, ولی, قدرت, کمی, باد, داره, خوبه}</td>\n",
       "      <td>False</td>\n",
       "      <td>True</td>\n",
       "      <td>False</td>\n",
       "    </tr>\n",
       "    <tr>\n",
       "      <th>762</th>\n",
       "      <td>{کرد, خریدن, زمینه, هستش, ای, نیاز, مشکی, اشتب...</td>\n",
       "      <td>True</td>\n",
       "      <td>False</td>\n",
       "      <td>False</td>\n",
       "    </tr>\n",
       "    <tr>\n",
       "      <th>771</th>\n",
       "      <td>{آچارلوله, می‌شدم, کارمداوم, آچار, می‌گرفتم, م...</td>\n",
       "      <td>False</td>\n",
       "      <td>True</td>\n",
       "      <td>False</td>\n",
       "    </tr>\n",
       "    <tr>\n",
       "      <th>786</th>\n",
       "      <td>{درد, گیاهیه, نوعش, نمیخوره, استفاده, من, حس, ...</td>\n",
       "      <td>False</td>\n",
       "      <td>True</td>\n",
       "      <td>False</td>\n",
       "    </tr>\n",
       "  </tbody>\n",
       "</table>\n",
       "</div>"
      ],
      "text/plain": [
       "                                              features  recommend  prediction  \\\n",
       "692  {بخرید, معمولی, است, محصول, میکنم, کاملا, و, ب...      False        True   \n",
       "711              {کم, ولی, قدرت, کمی, باد, داره, خوبه}      False        True   \n",
       "762  {کرد, خریدن, زمینه, هستش, ای, نیاز, مشکی, اشتب...       True       False   \n",
       "771  {آچارلوله, می‌شدم, کارمداوم, آچار, می‌گرفتم, م...      False        True   \n",
       "786  {درد, گیاهیه, نوعش, نمیخوره, استفاده, من, حس, ...      False        True   \n",
       "\n",
       "     correctness  \n",
       "692        False  \n",
       "711        False  \n",
       "762        False  \n",
       "771        False  \n",
       "786        False  "
      ]
     },
     "execution_count": 98,
     "metadata": {},
     "output_type": "execute_result"
    }
   ],
   "source": [
    "incorrect_answer = a.get_incorrects()\n",
    "incorrect_answer"
   ]
  },
  {
   "cell_type": "markdown",
   "metadata": {},
   "source": [
    "The reason for this can be several things. One is that most of our data do not have a lot of useful information, and for example there are words that indicate the most positive opinion in the information, but in the test there are comments with a negative opinion.\n",
    "So the problem can either be due to the number or type of most data, or it can be related to data preprocessing operations."
   ]
  }
 ],
 "metadata": {
  "kernelspec": {
   "display_name": "Python 3",
   "language": "python",
   "name": "python3"
  },
  "language_info": {
   "codemirror_mode": {
    "name": "ipython",
    "version": 3
   },
   "file_extension": ".py",
   "mimetype": "text/x-python",
   "name": "python",
   "nbconvert_exporter": "python",
   "pygments_lexer": "ipython3",
   "version": "3.8.5"
  }
 },
 "nbformat": 4,
 "nbformat_minor": 4
}
